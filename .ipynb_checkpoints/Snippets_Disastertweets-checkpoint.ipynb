{
 "cells": [
  {
   "cell_type": "code",
   "execution_count": null,
   "id": "2ea704df",
   "metadata": {},
   "outputs": [],
   "source": [
    "#### Pad the tweets to limit of largest tweet"
   ]
  },
  {
   "cell_type": "code",
   "execution_count": null,
   "id": "6cb20f74",
   "metadata": {},
   "outputs": [],
   "source": [
    "## Max sequence length\n",
    "seq_max = 0\n",
    "for sequence in sequences:\n",
    "    length = len(sequence)\n",
    "    #print(length)\n",
    "    if length > seq_max:\n",
    "        seq_max = length\n",
    "        print(seq_max)\n",
    "        print(sequence)\n",
    "print(\"Max sequence length = \", seq_max)"
   ]
  }
 ],
 "metadata": {
  "kernelspec": {
   "display_name": "Python 3 (ipykernel)",
   "language": "python",
   "name": "python3"
  },
  "language_info": {
   "codemirror_mode": {
    "name": "ipython",
    "version": 3
   },
   "file_extension": ".py",
   "mimetype": "text/x-python",
   "name": "python",
   "nbconvert_exporter": "python",
   "pygments_lexer": "ipython3",
   "version": "3.9.7"
  }
 },
 "nbformat": 4,
 "nbformat_minor": 5
}
