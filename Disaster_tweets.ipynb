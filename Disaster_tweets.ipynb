{
 "cells": [
  {
   "cell_type": "markdown",
   "id": "092a2a81",
   "metadata": {},
   "source": [
    "## Code using NLP to predict which tweets are about natural disasters."
   ]
  },
  {
   "cell_type": "markdown",
   "id": "85d8e706",
   "metadata": {},
   "source": [
    "### - Import modules -"
   ]
  },
  {
   "cell_type": "code",
   "execution_count": 1,
   "id": "a9df9ec6",
   "metadata": {},
   "outputs": [],
   "source": [
    "import tensorflow as tf\n",
    "from tensorflow.keras.preprocessing.text import Tokenizer\n",
    "from tensorflow.keras.preprocessing.sequence import pad_sequences\n",
    "\n",
    "import numpy as np\n",
    "import matplotlib.pyplot as plt\n",
    "import pandas as pd\n",
    "import sys\n",
    "import re\n",
    "import string"
   ]
  },
  {
   "cell_type": "markdown",
   "id": "22981494",
   "metadata": {},
   "source": [
    "#### Read in the data"
   ]
  },
  {
   "cell_type": "code",
   "execution_count": 2,
   "id": "959c5aa0",
   "metadata": {},
   "outputs": [],
   "source": [
    "all_train_data = pd.read_csv('train.csv')\n",
    "shuffled_all_train_data = all_train_data.sample(frac = 1)"
   ]
  },
  {
   "cell_type": "markdown",
   "id": "a2860ec5",
   "metadata": {},
   "source": [
    "### - Analyse and tidy the data -"
   ]
  },
  {
   "cell_type": "code",
   "execution_count": 3,
   "id": "ea3df35c",
   "metadata": {},
   "outputs": [
    {
     "name": "stdout",
     "output_type": "stream",
     "text": [
      "   id keyword location                                               text  \\\n",
      "0   1     NaN      NaN  Our Deeds are the Reason of this #earthquake M...   \n",
      "1   4     NaN      NaN             Forest fire near La Ronge Sask. Canada   \n",
      "2   5     NaN      NaN  All residents asked to 'shelter in place' are ...   \n",
      "3   6     NaN      NaN  13,000 people receive #wildfires evacuation or...   \n",
      "4   7     NaN      NaN  Just got sent this photo from Ruby #Alaska as ...   \n",
      "\n",
      "   target  \n",
      "0       1  \n",
      "1       1  \n",
      "2       1  \n",
      "3       1  \n",
      "4       1  \n",
      "0    0.57034\n",
      "1    0.42966\n",
      "Name: target, dtype: float64\n"
     ]
    }
   ],
   "source": [
    "print(all_train_data.head())\n",
    "print(all_train_data['target'].value_counts(normalize = True))"
   ]
  },
  {
   "cell_type": "markdown",
   "id": "51ebb720",
   "metadata": {},
   "source": [
    "#### Split the data into sentences and labels\n",
    "Note there is also a keyword and location field that can be used but might be blank. For now, I stick with the completed data - so the tweet is the only feature used."
   ]
  },
  {
   "cell_type": "code",
   "execution_count": 4,
   "id": "e47aa4b5",
   "metadata": {},
   "outputs": [],
   "source": [
    "sentences = shuffled_all_train_data['text'].tolist()\n",
    "labels = shuffled_all_train_data['target'].tolist()"
   ]
  },
  {
   "cell_type": "markdown",
   "id": "d5433d85",
   "metadata": {},
   "source": [
    "#### Look at some examples of tweets and their labels"
   ]
  },
  {
   "cell_type": "code",
   "execution_count": 5,
   "id": "69fa9aaf",
   "metadata": {},
   "outputs": [
    {
     "name": "stdout",
     "output_type": "stream",
     "text": [
      "data length =  7613\n",
      "['@kessily @mishacollins So we should send it all 2 him then? Drown him in it? I like the way u think! #AllTheKidneyBeansAndSorbet4Misha #YES', 'Stay cautious. http://t.co/JeJC9XcTMp', 'Stuart Broad Takes Eight Before Joe Root Runs Riot Against Aussies', '@fouseyTUBE you ok? Need a ambulance. Hahahah that was good! http://t.co/ZSbErqNN9n', 'Dont even come if you worried about curfew #BC19', 'Truck Driver Salvages Banned Tomatoes From Destruction on #Russian Border http://t.co/7b2Wf6ovFK #news', 'Want to work in #MissionHills CA? View our latest opening: http://t.co/ZsnSaR1Tw1 #Nursing #Job #Jobs #Hiring', 'Storm batters top half of North Island: A violent overnight storm has battered the upper North Island uprootin... http://t.co/fHVOkmpheD', 'Madhya Pradesh Train Derailment: Village Youth Saved Many Lives', 'A Cessna airplane accident in Ocampo Coahuila Mexico on July 29 2015 killed four men including a State of Coahuila government official.']\n",
      "[0, 0, 0, 0, 0, 0, 0, 1, 1, 1]\n"
     ]
    }
   ],
   "source": [
    "print(\"data length = \", len(sentences))\n",
    "print(sentences[:10])\n",
    "print(labels[:10])"
   ]
  },
  {
   "cell_type": "markdown",
   "id": "1a5296f5",
   "metadata": {},
   "source": [
    "#### Look at length of tweets in terms of number of characters"
   ]
  },
  {
   "cell_type": "code",
   "execution_count": 6,
   "id": "bfd6c094",
   "metadata": {},
   "outputs": [
    {
     "name": "stdout",
     "output_type": "stream",
     "text": [
      "139\n",
      "@kessily @mishacollins So we should send it all 2 him then? Drown him in it? I like the way u think! #AllTheKidneyBeansAndSorbet4Misha #YES\n",
      "140\n",
      "#aerospace #exec Plane debris is from missing MH370 - Part of the aircraft wing found on Reunion Island is from th... http://t.co/S2wm8lh7oO\n",
      "142\n",
      "This just-married Turkish couple gave 4000 Syrian refugees an incredible gift http://t.co/ibeD3xG7fy Fed them instead of family &amp; friends.\n",
      "148\n",
      "Just stop fucking saying ÛÏa whole Û÷notherÛ. It just sounds fucking stupid. You fucking mean ÛÏa whole otherÛ. Not a fucking tongue-twister.\n",
      "150\n",
      "@HowardU If 90BLKs&amp;8WHTs colluded 2 take WHT F @USAgov AUTH Hostage&amp;2 make her look BLK w/Bioterrorism&amp;use her lgl/org IDis ID still hers?\n",
      "151\n",
      "@CAgov If 90BLKs&amp;8WHTs colluded 2 take WHT F @USAgov AUTH Hostage&amp;2 make her look BLK w/Bioterrorism&amp;use her lgl/org IDis ID still hers?@VP\n",
      "152\n",
      "It's was about 2:30 in the morning&amp;I went downstairs to watch some telly&amp;I accidentally made a loud bang&amp;my dad(who has a broken leg)walked-\n",
      "157\n",
      "when you're taking a shower and someone flushes the toilet and you have .1 second to GTFO or you get burned??????????????????????????????????????????????????\n",
      "Max length =  157\n"
     ]
    }
   ],
   "source": [
    "max = 0\n",
    "for sentence in sentences:\n",
    "    length = len(sentence)\n",
    "    if length > max:\n",
    "        max = length\n",
    "        print(max)\n",
    "        print(sentence)\n",
    "\n",
    "print(\"Max length = \", max)"
   ]
  },
  {
   "cell_type": "markdown",
   "id": "9f9b6bb4",
   "metadata": {},
   "source": [
    "### - Tokenize the words -\n",
    "We now tokenize the 100 most common words by assigning them a number and then turning the tweets into sequences to train the model. In the model, we have an embedding dimension which assigns a vector for each word and allows words with similar meanings to appear close in the embedding parameter space, e.g., words that are negative in sentiment would have similar vectors.\n",
    "\n",
    "We can see from example data that many tweets have URLs, user names, hashtags and numbers.\n",
    "We could process these to tidy the data - however, unless we create additional features to train the model, \n",
    "then there is no point pre-processing as the tokenizer will simply replace these values with an out-of-value token."
   ]
  },
  {
   "cell_type": "code",
   "execution_count": 7,
   "id": "b6b77e35",
   "metadata": {},
   "outputs": [],
   "source": [
    "## Tokenize most 1000 common words\n",
    "vocab_size = 1000 \n",
    "\n",
    "## Embedding dimension size\n",
    "embedding_size = 6\n",
    "\n",
    "## Where to truncate tweets that are too long (won't be needed)\n",
    "trunc_type = 'post' \n",
    "\n",
    "## Where to pad tweets that are too long\n",
    "padding_type = 'post'\n",
    "\n",
    "## Token used for words outside of vocab which get tokenized as 1 (check this)\n",
    "oov_tok = '<OOV>' "
   ]
  },
  {
   "cell_type": "markdown",
   "id": "c2690ea6",
   "metadata": {},
   "source": [
    "#### Initialise the tokenizer"
   ]
  },
  {
   "cell_type": "code",
   "execution_count": 8,
   "id": "872942ac",
   "metadata": {},
   "outputs": [],
   "source": [
    "tokeniser = Tokenizer(num_words = vocab_size, \n",
    "                      oov_token = oov_tok,\n",
    "                      filters='!\"#$%&()*+,-./:;<=>?@[\\\\]^_`{\"}~\\t\\n|', ## by default, all punctuation is filtered\n",
    "                      lower=True, ## Make tweets all lowercase\n",
    "                      split = ' ',) "
   ]
  },
  {
   "cell_type": "code",
   "execution_count": 9,
   "id": "b6bd5031",
   "metadata": {},
   "outputs": [],
   "source": [
    "## tokenise the words\n",
    "tokeniser.fit_on_texts(sentences) \n",
    "\n",
    "## Extract the word index\n",
    "word_index = tokeniser.word_index "
   ]
  },
  {
   "cell_type": "markdown",
   "id": "3ee7d08a",
   "metadata": {},
   "source": [
    "#### Look at the words that have been tokenised."
   ]
  },
  {
   "cell_type": "code",
   "execution_count": 16,
   "id": "22bef3dc",
   "metadata": {},
   "outputs": [
    {
     "name": "stdout",
     "output_type": "stream",
     "text": [
      "Label           Number    \n",
      "<OOV>           1         \n",
      "t               2         \n",
      "co              3         \n",
      "http            4         \n",
      "the             5         \n",
      "a               6         \n",
      "in              7         \n",
      "to              8         \n",
      "of              9         \n",
      "and             10        \n"
     ]
    }
   ],
   "source": [
    "print(\"{:<15} {:<10}\".format('Label','Number'))\n",
    "index = list(word_index.items())\n",
    "for i in range(10):\n",
    "    label, num = index[i]\n",
    "    print(\"{:<15} {:<10}\".format(label, num))"
   ]
  },
  {
   "cell_type": "markdown",
   "id": "18d594e6",
   "metadata": {},
   "source": [
    "#### Tidy the tweets\n",
    "Based on the above word_index, can see many things are being tokenized that won't play a role in classification,\n",
    "e.g., numbers or https labels. Because only the 1000 most common words are retained, having common but generally not as useful\n",
    "things tokenized means that we lose useful information.\n",
    "Can also see with Hashtag symbols removed, but the joined words forming the hashtag aren't.\n",
    "\n",
    "In below, rather than substitute numbers, urls etc. by a token word, we simply remove them as these features won't mix well with the tokeniser - they won't make sense in sequences."
   ]
  },
  {
   "cell_type": "markdown",
   "id": "06581ed4",
   "metadata": {},
   "source": [
    "#### Find all instances of hashtags"
   ]
  },
  {
   "cell_type": "code",
   "execution_count": 17,
   "id": "aa9c6c04",
   "metadata": {},
   "outputs": [
    {
     "name": "stdout",
     "output_type": "stream",
     "text": [
      "2918    AllTheKidneyBeansAndSorbet4Misha\n",
      "1943                                BC19\n",
      "2621                             Russian\n",
      "3219                        MissionHills\n",
      "2163                           aerospace\n",
      "                      ...               \n",
      "124                                 book\n",
      "181                           justsaying\n",
      "6047                                 gif\n",
      "1249                    PPSellsBabyParts\n",
      "6623                                News\n",
      "Name: Word, Length: 1743, dtype: object\n"
     ]
    }
   ],
   "source": [
    "matches = shuffled_all_train_data[\"text\"].str.extract(r\"(?P<Hashtag>[#])(?P<Word>\\w+)\\b\")\n",
    "print(matches.dropna()['Word'])"
   ]
  },
  {
   "cell_type": "markdown",
   "id": "b1a58243",
   "metadata": {},
   "source": [
    "#### Remove all URLs"
   ]
  },
  {
   "cell_type": "code",
   "execution_count": 18,
   "id": "cc7d100c",
   "metadata": {},
   "outputs": [
    {
     "name": "stdout",
     "output_type": "stream",
     "text": [
      "2918    @kessily @mishacollins So we should send it all 2 him then? Drown him in it? I like the way u think! #AllTheKidneyBeansAndSorbet4Misha #YES\n",
      "4347                                                                                                                             Stay cautious. URL\n",
      "5771                                                                             Stuart Broad Takes Eight Before Joe Root Runs Riot Against Aussies\n",
      "185                                                                                @fouseyTUBE you ok? Need a ambulance. Hahahah that was good! URL\n",
      "1943                                                                                               Dont even come if you worried about curfew #BC19\n",
      "                                                                           ...                                                                     \n",
      "4715                                                                            My hands are cold but my feet are warm. That's where I keep my lava\n",
      "1366                       Where are the protests ? The riots? The burning buildings? How come you don't see any of that crap happening when... URL\n",
      "168                                                                             airplane crashes on house in Colombia 12 people die in accident URL\n",
      "6623                                                   Truth...\\nURL\\n#News\\n#BBC\\n#CNN\\n#Islam\\n#Truth\\n#god\\n#ISIS\\n#terrorism\\n#Quran\\n#Lies URL\n",
      "915                                  'I came to kill Indians...for FUN': Video of smirking and remorseless Pakistani killer shows him boasting. URL\n",
      "Name: text, Length: 7613, dtype: object\n"
     ]
    }
   ],
   "source": [
    "def remove_URL(text):\n",
    "    url = re.compile(r'https?://\\S+|www\\.\\S+')\n",
    "    return url.sub(r'URL',text)\n",
    "\n",
    "shuffled_all_train_data[\"text\"] = shuffled_all_train_data[\"text\"].apply(remove_URL)\n",
    "\n",
    "with pd.option_context('display.max_colwidth', None):\n",
    "    print(shuffled_all_train_data[\"text\"])"
   ]
  },
  {
   "cell_type": "markdown",
   "id": "b72b4eff",
   "metadata": {},
   "source": [
    "#### Remove the https label"
   ]
  },
  {
   "cell_type": "code",
   "execution_count": 19,
   "id": "bff78e40",
   "metadata": {},
   "outputs": [
    {
     "name": "stdout",
     "output_type": "stream",
     "text": [
      "2918    @kessily @mishacollins So we should send it all 2 him then? Drown him in it? I like the way u think! #AllTheKidneyBeansAndSorbet4Misha #YES\n",
      "4347                                                                                                                             Stay cautious. URL\n",
      "5771                                                                             Stuart Broad Takes Eight Before Joe Root Runs Riot Against Aussies\n",
      "185                                                                                @fouseyTUBE you ok? Need a ambulance. Hahahah that was good! URL\n",
      "1943                                                                                               Dont even come if you worried about curfew #BC19\n",
      "                                                                           ...                                                                     \n",
      "4715                                                                            My hands are cold but my feet are warm. That's where I keep my lava\n",
      "1366                       Where are the protests ? The riots? The burning buildings? How come you don't see any of that crap happening when... URL\n",
      "168                                                                             airplane crashes on house in Colombia 12 people die in accident URL\n",
      "6623                                                   Truth...\\nURL\\n#News\\n#BBC\\n#CNN\\n#Islam\\n#Truth\\n#god\\n#ISIS\\n#terrorism\\n#Quran\\n#Lies URL\n",
      "915                                  'I came to kill Indians...for FUN': Video of smirking and remorseless Pakistani killer shows him boasting. URL\n",
      "Name: text, Length: 7613, dtype: object\n"
     ]
    }
   ],
   "source": [
    "def remove_HTML(text):\n",
    "    html=re.compile(r'<.*?>')\n",
    "    return html.sub(r'',text)\n",
    "\n",
    "shuffled_all_train_data[\"text\"] = shuffled_all_train_data[\"text\"].apply(remove_HTML)\n",
    "\n",
    "with pd.option_context('display.max_colwidth', None):\n",
    "    print(shuffled_all_train_data[\"text\"])"
   ]
  },
  {
   "cell_type": "markdown",
   "id": "e191cc03",
   "metadata": {},
   "source": [
    "#### Remove mentions"
   ]
  },
  {
   "cell_type": "code",
   "execution_count": 20,
   "id": "303d55bf",
   "metadata": {},
   "outputs": [
    {
     "name": "stdout",
     "output_type": "stream",
     "text": [
      "2918    MENTION MENTION So we should send it all 2 him...\n",
      "4347                                   Stay cautious. URL\n",
      "5771    Stuart Broad Takes Eight Before Joe Root Runs ...\n",
      "185     MENTION you ok? Need a ambulance. Hahahah that...\n",
      "1943     Dont even come if you worried about curfew #BC19\n",
      "                              ...                        \n",
      "4715    My hands are cold but my feet are warm. That's...\n",
      "1366    Where are the protests ? The riots? The burnin...\n",
      "168     airplane crashes on house in Colombia 12 peopl...\n",
      "6623    Truth...\\nURL\\n#News\\n#BBC\\n#CNN\\n#Islam\\n#Tru...\n",
      "915     'I came to kill Indians...for FUN': Video of s...\n",
      "Name: text, Length: 7613, dtype: object\n"
     ]
    }
   ],
   "source": [
    "def remove_mention(text):\n",
    "    at=re.compile(r'@\\S+')\n",
    "    return at.sub(r'MENTION',text)\n",
    "\n",
    "shuffled_all_train_data[\"text\"] = shuffled_all_train_data[\"text\"].apply(remove_mention)\n",
    "print(shuffled_all_train_data[\"text\"])"
   ]
  },
  {
   "cell_type": "markdown",
   "id": "b0b527bf",
   "metadata": {},
   "source": [
    "#### Remove non ASCII characters"
   ]
  },
  {
   "cell_type": "code",
   "execution_count": 21,
   "id": "a3788a01",
   "metadata": {},
   "outputs": [
    {
     "name": "stdout",
     "output_type": "stream",
     "text": [
      "2918    MENTION MENTION So we should send it all 2 him then? Drown him in it? I like the way u think! #AllTheKidneyBeansAndSorbet4Misha #YES\n",
      "4347                                                                                                                      Stay cautious. URL\n",
      "5771                                                                      Stuart Broad Takes Eight Before Joe Root Runs Riot Against Aussies\n",
      "185                                                                             MENTION you ok? Need a ambulance. Hahahah that was good! URL\n",
      "1943                                                                                        Dont even come if you worried about curfew #BC19\n",
      "                                                                        ...                                                                 \n",
      "4715                                                                     My hands are cold but my feet are warm. That's where I keep my lava\n",
      "1366                Where are the protests ? The riots? The burning buildings? How come you don't see any of that crap happening when... URL\n",
      "168                                                                      airplane crashes on house in Colombia 12 people die in accident URL\n",
      "6623                                            Truth...\\nURL\\n#News\\n#BBC\\n#CNN\\n#Islam\\n#Truth\\n#god\\n#ISIS\\n#terrorism\\n#Quran\\n#Lies URL\n",
      "915                           'I came to kill Indians...for FUN': Video of smirking and remorseless Pakistani killer shows him boasting. URL\n",
      "Name: text, Length: 7613, dtype: object\n"
     ]
    }
   ],
   "source": [
    "def remove_not_ASCII(text):\n",
    "    text = ''.join([word for word in text if word in string.printable])\n",
    "    return text\n",
    "\n",
    "shuffled_all_train_data[\"text\"] = shuffled_all_train_data[\"text\"].apply(remove_not_ASCII)\n",
    "with pd.option_context('display.max_colwidth', None):\n",
    "    print(shuffled_all_train_data[\"text\"])"
   ]
  },
  {
   "cell_type": "markdown",
   "id": "cd222e5c",
   "metadata": {},
   "source": [
    "#### Remove numbers"
   ]
  },
  {
   "cell_type": "code",
   "execution_count": 22,
   "id": "ff7944c1",
   "metadata": {},
   "outputs": [
    {
     "name": "stdout",
     "output_type": "stream",
     "text": [
      "2918    MENTION MENTION So we should send it all NUMBER him then? Drown him in it? I like the way u think! #AllTheKidneyBeansAndSorbetNUMBERMisha #YES\n",
      "4347                                                                                                                                Stay cautious. URL\n",
      "5771                                                                                Stuart Broad Takes Eight Before Joe Root Runs Riot Against Aussies\n",
      "185                                                                                       MENTION you ok? Need a ambulance. Hahahah that was good! URL\n",
      "1943                                                                                              Dont even come if you worried about curfew #BCNUMBER\n",
      "                                                                             ...                                                                      \n",
      "4715                                                                               My hands are cold but my feet are warm. That's where I keep my lava\n",
      "1366                          Where are the protests ? The riots? The burning buildings? How come you don't see any of that crap happening when... URL\n",
      "168                                                                            airplane crashes on house in Colombia NUMBER people die in accident URL\n",
      "6623                                                      Truth...\\nURL\\n#News\\n#BBC\\n#CNN\\n#Islam\\n#Truth\\n#god\\n#ISIS\\n#terrorism\\n#Quran\\n#Lies URL\n",
      "915                                     'I came to kill Indians...for FUN': Video of smirking and remorseless Pakistani killer shows him boasting. URL\n",
      "Name: text, Length: 7613, dtype: object\n"
     ]
    }
   ],
   "source": [
    "def remove_number(text):\n",
    "    num = re.compile(r'[-+]?[.\\d]*[\\d]+[:,.\\d]*')\n",
    "    return num.sub(r'NUMBER', text)\n",
    "\n",
    "shuffled_all_train_data[\"text\"] = shuffled_all_train_data[\"text\"].apply(remove_number)\n",
    "with pd.option_context('display.max_colwidth', None):\n",
    "    print(shuffled_all_train_data[\"text\"])"
   ]
  },
  {
   "cell_type": "markdown",
   "id": "ca97b070",
   "metadata": {},
   "source": [
    "#### Create new tidy sentences"
   ]
  },
  {
   "cell_type": "code",
   "execution_count": 23,
   "id": "791d8615",
   "metadata": {},
   "outputs": [],
   "source": [
    "tidy_sentences = shuffled_all_train_data['text'].tolist()"
   ]
  },
  {
   "cell_type": "markdown",
   "id": "05926980",
   "metadata": {},
   "source": [
    "### Retokenise the tidy tweets"
   ]
  },
  {
   "cell_type": "code",
   "execution_count": 24,
   "id": "ba859267",
   "metadata": {},
   "outputs": [],
   "source": [
    "new_tokeniser = Tokenizer(num_words = vocab_size, \n",
    "                      oov_token = oov_tok,\n",
    "                      filters='!\"#$%&()*+,-./:;<=>?@[\\\\]^_`{\"}~\\t\\n|\\'',\n",
    "                      lower=True, ## Make tweets all lowercase\n",
    "                      split = ' ',) \n",
    "\n",
    "## tokenise the words\n",
    "new_tokeniser.fit_on_texts(tidy_sentences) \n",
    "\n",
    "## Extract the word index\n",
    "new_word_index = new_tokeniser.word_index "
   ]
  },
  {
   "cell_type": "markdown",
   "id": "d792def5",
   "metadata": {},
   "source": [
    "#### Look at the tokenised words again\n",
    "Find the data is now a lot cleaner. There are still ways it could be cleaned further (for example, there are a few odd letters that appear on their own) if we need to improve the model"
   ]
  },
  {
   "cell_type": "code",
   "execution_count": 39,
   "id": "c8797dd9",
   "metadata": {},
   "outputs": [
    {
     "name": "stdout",
     "output_type": "stream",
     "text": [
      "Label           Number    \n",
      "<OOV>           1         \n",
      "url             2         \n",
      "the             3         \n",
      "mention         4         \n",
      "a               5         \n",
      "number          6         \n",
      "in              7         \n",
      "to              8         \n",
      "of              9         \n",
      "i               10        \n"
     ]
    }
   ],
   "source": [
    "print(\"{:<15} {:<10}\".format('Label','Number'))\n",
    "\n",
    "for it in range(10):\n",
    "    key = list(new_word_index)[it]\n",
    "    value = list(new_word_index.values())[it]\n",
    "    label = key\n",
    "    num = value\n",
    "    print(\"{:<15} {:<10}\".format(label, num))"
   ]
  },
  {
   "cell_type": "markdown",
   "id": "90602d3d",
   "metadata": {},
   "source": [
    "#### Split the data into a train, test and validation set "
   ]
  },
  {
   "cell_type": "code",
   "execution_count": 26,
   "id": "b106b259",
   "metadata": {},
   "outputs": [
    {
     "name": "stdout",
     "output_type": "stream",
     "text": [
      "4567\n",
      "4567\n",
      "1523\n",
      "1523\n",
      "1523\n",
      "1523\n"
     ]
    }
   ],
   "source": [
    "cutone = int(len(tidy_sentences)*0.6)\n",
    "cuttwo = int(len(tidy_sentences)*0.8)\n",
    "\n",
    "train_sentences = tidy_sentences[:cutone]\n",
    "validation_sentences = tidy_sentences[cutone:cuttwo]\n",
    "test_sentences = tidy_sentences[cuttwo:]\n",
    "\n",
    "train_labels = np.array(labels[:cutone])\n",
    "validation_labels = np.array(labels[cutone:cuttwo])\n",
    "test_labels = np.array(labels[cuttwo:])\n",
    "\n",
    "print(len(train_labels))\n",
    "print(len(train_sentences))\n",
    "print(len(validation_labels))\n",
    "print(len(validation_sentences))\n",
    "print(len(test_labels))\n",
    "print(len(test_sentences))"
   ]
  },
  {
   "cell_type": "markdown",
   "id": "8c1c04b7",
   "metadata": {},
   "source": [
    "#### Create sequences"
   ]
  },
  {
   "cell_type": "code",
   "execution_count": 27,
   "id": "dd074272",
   "metadata": {},
   "outputs": [],
   "source": [
    "sequences = new_tokeniser.texts_to_sequences(tidy_sentences)\n",
    "train_sequences = new_tokeniser.texts_to_sequences(train_sentences) \n",
    "validation_sequences = new_tokeniser.texts_to_sequences(validation_sentences) \n",
    "test_sequences = new_tokeniser.texts_to_sequences(test_sentences) "
   ]
  },
  {
   "cell_type": "markdown",
   "id": "67c44ea6",
   "metadata": {},
   "source": [
    "#### Pad the tweets to limit of largest tweet"
   ]
  },
  {
   "cell_type": "code",
   "execution_count": 28,
   "id": "b12559c1",
   "metadata": {},
   "outputs": [
    {
     "name": "stdout",
     "output_type": "stream",
     "text": [
      "23\n",
      "[4, 4, 37, 40, 177, 529, 17, 43, 6, 180, 152, 490, 180, 7, 17, 10, 30, 3, 150, 81, 140, 1, 641]\n",
      "26\n",
      "[1, 1, 34, 58, 24, 1, 39, 30, 10, 101, 3, 1, 1, 52, 10, 141, 3, 768, 419, 24, 742, 36, 955, 72, 5, 77]\n",
      "27\n",
      "[4, 1, 10, 1, 209, 115, 9, 3, 1, 6, 468, 575, 1, 12, 1, 22, 3, 832, 31, 19, 53, 216, 575, 128, 157, 1, 1]\n",
      "32\n",
      "[7, 3, 1, 9, 313, 18, 771, 282, 18, 414, 6, 57, 17, 13, 92, 8, 6, 11, 10, 51, 196, 121, 42, 11, 145, 1, 99, 10, 38, 283, 21, 149]\n",
      "33\n",
      "[1, 14, 182, 68, 142, 69, 34, 191, 48, 263, 50, 1, 1, 1, 34, 23, 154, 5, 273, 23, 3, 1, 1, 16, 3, 1, 401, 10, 189, 472, 149, 22, 1]\n",
      "Max sequence length =  33\n"
     ]
    }
   ],
   "source": [
    "## Max sequence length\n",
    "seq_max = 0\n",
    "for sequence in sequences:\n",
    "    length = len(sequence)\n",
    "    if length > seq_max:\n",
    "        seq_max = length\n",
    "        print(seq_max)\n",
    "        print(sequence)\n",
    "print(\"Max sequence length = \", seq_max)"
   ]
  },
  {
   "cell_type": "code",
   "execution_count": 29,
   "id": "a84a86bc",
   "metadata": {},
   "outputs": [
    {
     "name": "stdout",
     "output_type": "stream",
     "text": [
      "4567\n",
      "4567\n",
      "1523\n",
      "1523\n",
      "1523\n",
      "1523\n"
     ]
    }
   ],
   "source": [
    "## max length of each tweet\n",
    "max_length = seq_max\n",
    "\n",
    "\n",
    "train_padded = pad_sequences(train_sequences, \n",
    "                       maxlen = max_length, \n",
    "                       padding = padding_type, \n",
    "                       truncating = trunc_type,)\n",
    "validation_padded = pad_sequences(validation_sequences, \n",
    "                       maxlen = max_length, \n",
    "                       padding = padding_type, \n",
    "                       truncating = trunc_type,)\n",
    "test_padded = pad_sequences(test_sequences, \n",
    "                       maxlen = max_length, \n",
    "                       padding = padding_type, \n",
    "                       truncating = trunc_type,)\n",
    "\n",
    "print(len(train_sequences))\n",
    "print(len(train_padded))\n",
    "print(len(validation_sequences))\n",
    "print(len(validation_padded))\n",
    "print(len(test_sequences))\n",
    "print(len(test_padded))"
   ]
  },
  {
   "cell_type": "markdown",
   "id": "707465ac",
   "metadata": {},
   "source": [
    "### - Compile and train the neural network -"
   ]
  },
  {
   "cell_type": "code",
   "execution_count": 40,
   "id": "b068832f",
   "metadata": {},
   "outputs": [],
   "source": [
    "callback = tf.keras.callbacks.EarlyStopping(\n",
    "    monitor='val_loss', min_delta=0, patience=3, verbose=0,\n",
    "    mode='auto', baseline=None, restore_best_weights=False\n",
    ")\n",
    "\n",
    "model = tf.keras.Sequential([\n",
    "                             tf.keras.layers.Embedding(vocab_size, embedding_size, input_length = max_length), \n",
    "                             tf.keras.layers.GlobalAveragePooling1D(),\n",
    "                             tf.keras.layers.Dense(6, activation = 'relu'),\n",
    "                             tf.keras.layers.Dense(1, activation = 'sigmoid'),\n",
    "                             ])"
   ]
  },
  {
   "cell_type": "code",
   "execution_count": 41,
   "id": "7b8af820",
   "metadata": {},
   "outputs": [],
   "source": [
    "model.compile(loss = 'binary_crossentropy', optimizer = tf.keras.optimizers.Adam(learning_rate=1e-4), metrics = ['accuracy']) "
   ]
  },
  {
   "cell_type": "code",
   "execution_count": 42,
   "id": "b62c8d58",
   "metadata": {},
   "outputs": [
    {
     "name": "stdout",
     "output_type": "stream",
     "text": [
      "Model: \"sequential_1\"\n",
      "_________________________________________________________________\n",
      " Layer (type)                Output Shape              Param #   \n",
      "=================================================================\n",
      " embedding_1 (Embedding)     (None, 33, 6)             6000      \n",
      "                                                                 \n",
      " global_average_pooling1d_1   (None, 6)                0         \n",
      " (GlobalAveragePooling1D)                                        \n",
      "                                                                 \n",
      " dense_2 (Dense)             (None, 6)                 42        \n",
      "                                                                 \n",
      " dense_3 (Dense)             (None, 1)                 7         \n",
      "                                                                 \n",
      "=================================================================\n",
      "Total params: 6,049\n",
      "Trainable params: 6,049\n",
      "Non-trainable params: 0\n",
      "_________________________________________________________________\n"
     ]
    }
   ],
   "source": [
    "model.summary()"
   ]
  },
  {
   "cell_type": "markdown",
   "id": "0594808f",
   "metadata": {},
   "source": [
    "#### Train the model"
   ]
  },
  {
   "cell_type": "code",
   "execution_count": 43,
   "id": "15c08e70",
   "metadata": {},
   "outputs": [],
   "source": [
    "num_epochs = 300\n",
    "history = model.fit(train_padded,\n",
    "          train_labels,\n",
    "          epochs = num_epochs,\n",
    "          callbacks=[callback],\n",
    "          validation_data = (validation_padded, validation_labels),\n",
    "          verbose = 0)     "
   ]
  },
  {
   "cell_type": "markdown",
   "id": "f7134633",
   "metadata": {},
   "source": [
    "#### Cross validation plots\n",
    "Find the validation loss starts to plateau at around 140 epochs, but doesn't start to increase. There is some overfitting as the train loss keeps decreasing."
   ]
  },
  {
   "cell_type": "code",
   "execution_count": 44,
   "id": "7aa1be82",
   "metadata": {},
   "outputs": [
    {
     "data": {
      "image/png": "[encoded data removed]",
      "text/plain": [
       "<Figure size 432x288 with 1 Axes>"
      ]
     },
     "metadata": {
      "needs_background": "light"
     },
     "output_type": "display_data"
    }
   ],
   "source": [
    "val_loss = history.history['val_loss']\n",
    "epoch_range = range(len(val_loss))\n",
    "plt.plot(epoch_range, history.history['loss'], label = 'Training loss')\n",
    "plt.plot(epoch_range, history.history['val_loss'], label = 'Validation loss')\n",
    "plt.legend(loc = 'upper right')\n",
    "plt.xlabel('epoch number')\n",
    "plt.show()"
   ]
  },
  {
   "cell_type": "markdown",
   "id": "f90b3b32",
   "metadata": {},
   "source": [
    "#### Evaluate on the test data\n",
    "Achieve an accuracy of about 81% which isn't bad for a first attempt."
   ]
  },
  {
   "cell_type": "code",
   "execution_count": 45,
   "id": "2bbbdb21",
   "metadata": {},
   "outputs": [
    {
     "name": "stdout",
     "output_type": "stream",
     "text": [
      "48/48 [==============================] - 0s 507us/step - loss: 0.4412 - accuracy: 0.8122\n"
     ]
    },
    {
     "data": {
      "text/plain": [
       "[0.44115859270095825, 0.8122127652168274]"
      ]
     },
     "execution_count": 45,
     "metadata": {},
     "output_type": "execute_result"
    }
   ],
   "source": [
    "model.evaluate(test_padded,\n",
    "               test_labels,)"
   ]
  },
  {
   "cell_type": "markdown",
   "id": "c8f55fe4",
   "metadata": {},
   "source": [
    "### - Make predictions and submission file -\n",
    "This is where the submission file is made for the Kaggle competition."
   ]
  },
  {
   "cell_type": "markdown",
   "id": "cee8eecb",
   "metadata": {},
   "source": [
    "#### Load in and tokenize the test data"
   ]
  },
  {
   "cell_type": "code",
   "execution_count": 46,
   "id": "674cb3b9",
   "metadata": {},
   "outputs": [],
   "source": [
    "submission_test_data = pd.read_csv('test.csv') \n",
    "submission_test_sentences = submission_test_data['text'].tolist()\n",
    "\n",
    "submission_test_sequences = tokeniser.texts_to_sequences(submission_test_sentences) # create tokenised sequences.\n",
    "submission_test_padded = pad_sequences(submission_test_sequences, \n",
    "                       maxlen = max_length, \n",
    "                       padding = padding_type, \n",
    "                       truncating = trunc_type,)"
   ]
  },
  {
   "cell_type": "markdown",
   "id": "7df309b1",
   "metadata": {},
   "source": [
    "#### Obtain predictions"
   ]
  },
  {
   "cell_type": "code",
   "execution_count": 47,
   "id": "61ec70bf",
   "metadata": {},
   "outputs": [],
   "source": [
    "new_id = submission_test_data['id']\n",
    "new_predict = np.round(model.predict(submission_test_padded));"
   ]
  },
  {
   "cell_type": "markdown",
   "id": "de3ee10b",
   "metadata": {},
   "source": [
    "#### Save to file"
   ]
  },
  {
   "cell_type": "code",
   "execution_count": 48,
   "id": "a608a630",
   "metadata": {},
   "outputs": [],
   "source": [
    "np.savetxt('submission.csv', np.c_[new_id, new_predict], delimiter = ',', header = 'id,target', comments = '', fmt = '%d')"
   ]
  },
  {
   "cell_type": "code",
   "execution_count": null,
   "id": "015f95be",
   "metadata": {},
   "outputs": [],
   "source": []
  }
 ],
 "metadata": {
  "kernelspec": {
   "display_name": "Python 3 (ipykernel)",
   "language": "python",
   "name": "python3"
  },
  "language_info": {
   "codemirror_mode": {
    "name": "ipython",
    "version": 3
   },
   "file_extension": ".py",
   "mimetype": "text/x-python",
   "name": "python",
   "nbconvert_exporter": "python",
   "pygments_lexer": "ipython3",
   "version": "3.9.7"
  }
 },
 "nbformat": 4,
 "nbformat_minor": 5
}
